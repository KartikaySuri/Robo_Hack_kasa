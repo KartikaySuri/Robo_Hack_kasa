{
 "cells": [
  {
   "cell_type": "code",
   "execution_count": 5,
   "metadata": {},
   "outputs": [],
   "source": [
    "import numpy as np\n",
    "import pandas as pd\n",
    "import matplotlib.pyplot as plt\n",
    "import tensorflow as tf\n",
    "from keras.layers import Dense, Flatten\n",
    "from keras.models import Model\n",
    "from keras.applications.inception_v3 import InceptionV3, preprocess_input\n",
    "from keras.preprocessing.image import ImageDataGenerator, load_img, img_to_array\n",
    "import keras\n"
   ]
  },
  {
   "cell_type": "code",
   "execution_count": 22,
   "metadata": {},
   "outputs": [],
   "source": [
    "base_model = InceptionV3(input_shape =(512,512,3), include_top = False )"
   ]
  },
  {
   "cell_type": "code",
   "execution_count": 23,
   "metadata": {},
   "outputs": [],
   "source": [
    "for layer in base_model.layers:\n",
    "  layer.trainable = False\n",
    "  "
   ]
  },
  {
   "cell_type": "code",
   "execution_count": 24,
   "metadata": {},
   "outputs": [],
   "source": [
    "x = Flatten()(base_model.output)\n",
    "x = Dense(units = 11, activation = 'sigmoid')(x)\n",
    "\n",
    "model = Model(base_model.input,x)\n",
    "model.compile(optimizer = 'adam', loss = keras.losses.binary_crossentropy,metrics = ['accuracy'])\n"
   ]
  },
  {
   "cell_type": "code",
   "execution_count": 108,
   "metadata": {},
   "outputs": [
    {
     "name": "stdout",
     "output_type": "stream",
     "text": [
      "Found 862 images belonging to 11 classes.\n",
      "Found 427 images belonging to 11 classes.\n"
     ]
    }
   ],
   "source": [
    "train_datagen = ImageDataGenerator(featurewise_center= True,\n",
    "rotation_range=0.4,\n",
    "width_shift_range=0.3,\n",
    "horizontal_flip=True,\n",
    "preprocessing_function=preprocess_input,\n",
    "zoom_range=0.4,shear_range=0.4)\n",
    "\n",
    "train_data = train_datagen.flow_from_directory(directory = 'C:/Users/Kartikay Suri/Downloads/infinity-skncure-master/train',\n",
    "target_size=(512,512),\n",
    "batch_size = 64)\n",
    "\n",
    "test_data = train_datagen.flow_from_directory(directory = 'C:/Users/Kartikay Suri/Downloads/infinity-skncure-master/test',\n",
    "target_size=(512,512),\n",
    "batch_size = 64) "
   ]
  },
  {
   "cell_type": "code",
   "execution_count": 100,
   "metadata": {},
   "outputs": [
    {
     "data": {
      "text/plain": [
       "{'acne': 0,\n",
       " 'contact dermatitis': 1,\n",
       " 'corn': 2,\n",
       " 'cutaneous horn': 3,\n",
       " 'eczema': 4,\n",
       " 'herpes zoster': 5,\n",
       " 'melanoma': 6,\n",
       " 'normal skin': 7,\n",
       " 'psoriasis': 8,\n",
       " 'rosacea': 9,\n",
       " 'ulticaria': 10}"
      ]
     },
     "execution_count": 100,
     "metadata": {},
     "output_type": "execute_result"
    }
   ],
   "source": [
    "train_data.class_indices"
   ]
  },
  {
   "cell_type": "code",
   "execution_count": 101,
   "metadata": {},
   "outputs": [],
   "source": [
    "t_img, label = train_data.next()"
   ]
  },
  {
   "cell_type": "code",
   "execution_count": 102,
   "metadata": {},
   "outputs": [
    {
     "data": {
      "text/plain": [
       "(64, 512, 512, 3)"
      ]
     },
     "execution_count": 102,
     "metadata": {},
     "output_type": "execute_result"
    }
   ],
   "source": [
    "t_img.shape"
   ]
  },
  {
   "cell_type": "code",
   "execution_count": 103,
   "metadata": {},
   "outputs": [],
   "source": [
    "def plotImages(img_arr, label):\n",
    "    for idx, img in enumerate(img_arr):\n",
    "        if idx<=10:\n",
    "            plt.figure(figsize = (5,5))\n",
    "            plt.imshow(img)\n",
    "            plt.title(img.shape)\n",
    "            plt.axis = False\n",
    "            plt.show()\n"
   ]
  },
  {
   "cell_type": "code",
   "execution_count": null,
   "metadata": {},
   "outputs": [],
   "source": [
    "plotImages(t_img,label)"
   ]
  },
  {
   "cell_type": "code",
   "execution_count": 105,
   "metadata": {},
   "outputs": [],
   "source": [
    "from keras.callbacks import ModelCheckpoint, EarlyStopping\n",
    "mc = ModelCheckpoint(filepath='./best_model.h5', \n",
    "monitor = 'accuracy',\n",
    "verbose = 1,\n",
    "save_best_only=True)\n",
    "\n",
    "# Es = EarlyStopping(monitor=\"accuracy\",\n",
    "# min_delta = 0.01, \n",
    "# patience=5, \n",
    "# verbose=1)\n",
    "\n",
    "# cb = [mc,Es]\n",
    "cb = [mc]"
   ]
  },
  {
   "cell_type": "code",
   "execution_count": null,
   "metadata": {},
   "outputs": [],
   "source": [
    "his = model.fit_generator(train_data, \n",
    "steps_per_epoch = 10, \n",
    "epochs = 20, callbacks = cb)"
   ]
  },
  {
   "cell_type": "code",
   "execution_count": null,
   "metadata": {},
   "outputs": [],
   "source": [
    "path = r'C:\\Users\\Kartikay Suri\\Downloads\\infinity-skncure-master\\test\\corn\\18.png'\n",
    "img = load_img(path,target_size = (512,512))\n",
    "i = img_to_array(img)\n",
    "i = preprocess_input(i)\n",
    "input_arr = np.array([i])\n",
    "input_arr.shape\n",
    "pred = np.argmax(model.predict(input_arr))\n",
    "print(pred)\n",
    "\n",
    "plt.imshow(input_arr[0])\n",
    "plt.title(\"input image\")\n",
    "plt.show()\n"
   ]
  },
  {
   "cell_type": "code",
   "execution_count": null,
   "metadata": {},
   "outputs": [],
   "source": [
    "import os\n",
    "newpath = os.listdir(r'C:\\Users\\Kartikay Suri\\Downloads\\infinity-skncure-master\\test')\n",
    "for k in newpath:\n",
    "    subpath = os.listdir('C:/Users/Kartikay Suri/Downloads/infinity-skncure-master/test/'+k)\n",
    "    for j in subpath:\n",
    "        checkpath = 'C:/Users/Kartikay Suri/Downloads/infinity-skncure-master/test/'+ str(k) + '/' + str(j)\n",
    "        print(checkpath)\n",
    "        img = load_img(checkpath,target_size = (512,512))\n",
    "        i = img_to_array(img)\n",
    "        i = preprocess_input(i)\n",
    "        input_arr = np.array([i])\n",
    "        input_arr.shape\n",
    "        pred = np.argmax(model.predict(input_arr))\n",
    "    "
   ]
  },
  {
   "cell_type": "code",
   "execution_count": 8,
   "metadata": {},
   "outputs": [],
   "source": [
    "model = load_model('C:/Users/Kartikay Suri/Documents/Code Directory/Python program/pocketdermaNew3.h5')\n"
   ]
  },
  {
   "cell_type": "code",
   "execution_count": 12,
   "metadata": {},
   "outputs": [
    {
     "name": "stdout",
     "output_type": "stream",
     "text": [
      "https://storage.googleapis.com/pocket-derm-66975.appspot.com/image1.jpeg?Expires=1642927852&GoogleAccessId=firebase-adminsdk-qima1%40pocket-derm-66975.iam.gserviceaccount.com&Signature=fpMuGVdAObIbsk1jaXRn%2Blwv7SpqumHscpDCWYYyWM%2FVIXVxZmUocJR4k48uZgVqg8ZqEIbbC2jfVw0l9tkEfFPAk9dagro69y1zsulwf68i6tE%2FJ0s0wGoHo0jfXGuOFscnwa2Q7Osmf5YzGsIKM%2Fq3QPbVgAxD0gO0YW8x485RyIgDlP%2B6hCkASiNOrDBXYW7ntKHXCirooilUDB15J%2BhRoaXw4adYIN%2B67jNC3zK%2FmWPtc14oPt2CvsjNp%2F1igK2vFvqzRF5Q7tx4uNuHdm4X9OIGgJxqJ%2Fv02s%2Bva2IYQdq7nOu5sYnh1cWKFLbaxPsSRNrtqOiwEMYEJHMsgw%3D%3D\n",
      "C:/Users/Kartikay Suri/Documents/Code Directory/Python program/image1.jpg\n",
      "4\n",
      "Measles\n"
     ]
    }
   ],
   "source": [
    "import firebase_admin\n",
    "from firebase_admin import credentials\n",
    "from firebase_admin import storage\n",
    "import datetime\n",
    "import os\n",
    "import requests\n",
    "from keras.models import load_model\n",
    "\n",
    "# # Fetch the service account key JSON file contents\n",
    "# cred = credentials.Certificate(\"C:/Users/Kartikay Suri/Downloads/pocket-derm-66975-firebase-adminsdk-qima1-21949fb43c.json\")\n",
    "\n",
    "# # Initialize the app with a service account, granting admin privileges\n",
    "# app = firebase_admin.initialize_app(cred, {\n",
    "#     'storageBucket': 'pocket-derm-66975.appspot.com',\n",
    "# }, name='storage')\n",
    "\n",
    "bucket = storage.bucket(app=app)\n",
    "blob = bucket.blob(\"image1.jpeg\")\n",
    "\n",
    "print(blob.generate_signed_url(datetime.timedelta(seconds=300), method='GET'))\n",
    "response = requests.get(blob.generate_signed_url(datetime.timedelta(seconds=300), method='GET'))\n",
    "\n",
    "file = open(\"sample_image.png\", \"wb\")\n",
    "file.write(response.content)\n",
    "file.close()\n",
    "\n",
    "\n",
    "checkpath = 'C:/Users/Kartikay Suri/Documents/Code Directory/Python program/sample_image.png'\n",
    "print(checkpath)\n",
    "img = load_img(checkpath,target_size = (224,224))\n",
    "i = img_to_array(img)\n",
    "i = preprocess_input(i)\n",
    "input_arr = np.array([i])\n",
    "input_arr.shape\n",
    "pred = np.argmax(model.predict(input_arr))\n",
    "print(pred)\n",
    "classes = {1:\"Acne\",2: \"Corn\",3: \"Cutaneous Horn\",4: \"Measles\",5:\"Melanoma\",6:\"Psoriasis\",7:\"Ringworm\"}\n",
    "result_class = classes[pred]\n",
    "print(result_class)\n",
    "if pred == 0:\n",
    "    info = \"\"\"Acne is a skin condition that occurs when your hair follicles become \n",
    "    plugged with oil and dead skin cells. It causes whiteheads, blackheads or pimples. \n",
    "    Acne is most common among teenagers, though it affects people of all ages.\n",
    "\n",
    "    Effective acne treatments are available, but acne can be persistent. \n",
    "    The pimples and bumps heal slowly, and when one begins to go away, others seem to crop up.\n",
    "\n",
    "    Depending on its severity, acne can cause emotional distress and scar the \n",
    "    skin. The earlier you start treatment, the lower your risk of such problems.\"\"\"\n",
    "\n",
    "    Website = \"https://www.mayoclinic.org/diseases-conditions/acne/symptoms-causes/syc-20368047\"\n",
    "\n",
    "elif pred == 1:\n",
    "    info = \"\"\"Corns and calluses are thick, hardened layers of skin that develop when your skin \n",
    "    tries to protect itself against friction and pressure. \n",
    "    They most often develop on the feet and toes or hands and fingers. Corns and calluses can be unsightly.\n",
    "\n",
    "    If you're healthy, you need treatment for corns and calluses only if they cause discomfort. \n",
    "    For most people, simply eliminating the source of friction or pressure makes corns and calluses disappear.\n",
    "\n",
    "    If you have diabetes or another condition that causes poor blood flow to your feet, \n",
    "    you're at greater risk of complications from corns and calluses. \n",
    "    Seek your doctor's advice on proper care for corns and calluses if you have such a condition.\"\"\"\n",
    "\n",
    "    Website = \"\"\"https://www.mayoclinic.org/diseases-conditions/corns-and-calluses/symptoms-causes/syc-20355946#:~:text=Overview,and%20calluses%20can%20be%20unsightly.\"\"\"\n",
    "elif pred == 2:\n",
    "    info = \"\"\"A cutaneous horn (cornu cutaneum) is a hard conical projection from the skin, made of compact keratin. \n",
    "    They are so named as they resemble an animal's horn. They arise from benign, premalignant or malignant skin lesions.\n",
    "    Around half of horns have a benign base, and half are premalignant or malignant. \n",
    "    The most common underlying lesions are seborrhoeic keratosis, viral warts (due to human papillomavirus), \n",
    "    actinic keratosis, and well-differentiated squamous cell carcinoma (associated with exposure \n",
    "    to the sun and other sources of UV radiation).\"\"\"\n",
    "\n",
    "    Website = \"\"\"https://dermnetnz.org/topics/cutaneous-horn\"\"\"\n",
    "\n",
    "elif pred ==3:\n",
    "    info = \"\"\"Measles is a childhood infection caused by a virus. Once quite common, \n",
    "    measles can now almost always be prevented with a vaccine.\n",
    "\n",
    "    Also called rubeola, measles can be serious and even fatal for small children. \n",
    "    While death rates have been falling worldwide as more children receive the measles vaccine,\n",
    "     the disease still kills more than 100,000 people a year, most under the age of 5.\"\"\"\n",
    "\n",
    "elif pred == 4:\n",
    "    info = \"\"\"\"\"\"\n",
    "\n",
    "elif pred == 5:\n",
    "    info = \"\"\"\"\"\"\n",
    "\n",
    "elif pred ==6:\n",
    "    info = \"\"\"\"\"\"\n"
   ]
  },
  {
   "cell_type": "code",
   "execution_count": 2,
   "metadata": {},
   "outputs": [
    {
     "name": "stdout",
     "output_type": "stream",
     "text": [
      "{'name': '-Mu52q89dVtF_meYMTcs'}\n"
     ]
    }
   ],
   "source": [
    "from firebase import firebase  \n",
    "firebase = firebase.FirebaseApplication('https://pocket-derm-66975-default-rtdb.firebaseio.com/', None)  \n",
    "data =  { 'Name': 'Test'}  \n",
    "result = firebase.post('/Test/',data)  \n",
    "print(result)  "
   ]
  },
  {
   "cell_type": "code",
   "execution_count": 27,
   "metadata": {},
   "outputs": [
    {
     "name": "stdout",
     "output_type": "stream",
     "text": [
      "C:/Users/Kartikay Suri/Documents/Code Directory./Python program/sample_image.png\n",
      "1\n"
     ]
    }
   ],
   "source": []
  }
 ],
 "metadata": {
  "interpreter": {
   "hash": "477c3af2f4a5e24030f71f253b08da68da1cf8243cb8dd8c2e32a6294ee5421f"
  },
  "kernelspec": {
   "display_name": "Python 3.9.6 64-bit",
   "language": "python",
   "name": "python3"
  },
  "language_info": {
   "codemirror_mode": {
    "name": "ipython",
    "version": 3
   },
   "file_extension": ".py",
   "mimetype": "text/x-python",
   "name": "python",
   "nbconvert_exporter": "python",
   "pygments_lexer": "ipython3",
   "version": "3.9.6"
  },
  "orig_nbformat": 4
 },
 "nbformat": 4,
 "nbformat_minor": 2
}
